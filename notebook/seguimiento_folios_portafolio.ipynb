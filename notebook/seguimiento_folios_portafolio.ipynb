{
 "cells": [
  {
   "cell_type": "markdown",
   "id": "ea86948a",
   "metadata": {},
   "source": [
    "# 📊 Seguimiento de Folios - Dashboard en Power BI\n",
    "\n",
    "**Autor:** Uriel López  \n",
    "**Fecha:** 2025-06-27  \n",
    "\n",
    "Proyecto desarrollado como parte de un curso intensivo de Power BI para demostrar habilidades de análisis, visualización y presentación ejecutiva de datos en entornos de soporte técnico IT."
   ]
  },
  {
   "cell_type": "markdown",
   "id": "dcf89dc2",
   "metadata": {},
   "source": [
    "## 📌 Objetivo del proyecto\n",
    "\n",
    "Analizar el desempeño de 100 ingenieros de TI encargados de atender folios (incidencias, servicio, reparación), para evaluar eficiencia, puntualidad y carga de trabajo usando dashboards interactivos creados en Power BI."
   ]
  },
  {
   "cell_type": "markdown",
   "id": "0e4d7402",
   "metadata": {},
   "source": [
    "## 📁 Dataset utilizado\n",
    "\n",
    "- Archivo: `FoliosMensual.csv`\n",
    "- Columnas principales:\n",
    "  - Ingeniero\n",
    "  - Zona\n",
    "  - Supervisor\n",
    "  - Folios de Incidencia / Servicio / Reparación\n",
    "  - Folios Resueltos / No resueltos\n",
    "  - Tiempo de resolución (En tiempo, Próximo a exceder, Excedido)"
   ]
  },
  {
   "cell_type": "markdown",
   "id": "dc662e3f",
   "metadata": {},
   "source": [
    "## ⚙️ Proceso de desarrollo\n",
    "\n",
    "1. Limpieza y transformación de datos en Power Query\n",
    "2. Modelado de datos y creación de relaciones entre tablas\n",
    "3. Medidas DAX para KPIs: eficiencia, puntualidad, carga por zona\n",
    "4. Diseño de dashboard ejecutivo y navegación por páginas\n",
    "5. Exportación del dashboard como PDF para documentación"
   ]
  },
  {
   "cell_type": "markdown",
   "id": "103fd2d3",
   "metadata": {},
   "source": [
    "## 📊 Visualizaciones del dashboard\n",
    "\n",
    "A continuación se presentan capturas de las visualizaciones clave del informe desarrollado en Power BI:\n",
    "\n",
    "📌 **Ejemplo de KPI y gráfico de barras:**\n",
    "\n",
    "![KPIs](powerbi/grafico-tickets.png)\n",
    "\n",
    "📌 **Dashboard ejecutivo completo:**\n",
    "\n",
    "![Dashboard](powerbi/dashboard-general.png)"
   ]
  },
  {
   "cell_type": "markdown",
   "id": "62e0a8de",
   "metadata": {},
   "source": [
    "## 📈 Conclusiones y hallazgos\n",
    "\n",
    "- El 72% de los folios fueron resueltos en tiempo\n",
    "- Zona 3 y Zona 4 presentan los mejores promedios de eficiencia\n",
    "- Existen ingenieros con más de 100 folios asignados con altos niveles de cumplimiento\n",
    "- Se identificaron áreas de oportunidad en la puntualidad en Zona 1"
   ]
  },
  {
   "cell_type": "markdown",
   "id": "d0c919ac",
   "metadata": {},
   "source": [
    "## 🧠 Reflexión personal\n",
    "\n",
    "Este proyecto consolidó mi dominio en Power BI, especialmente en:\n",
    "\n",
    "- Diseño de dashboards profesionales\n",
    "- Creación de medidas DAX\n",
    "- Modelado eficiente de datos relacionales\n",
    "\n",
    "Lo considero parte clave de mi portafolio como futuro Analista de Datos."
   ]
  },
  {
   "cell_type": "markdown",
   "id": "4af8fa1e",
   "metadata": {},
   "source": [
    "## 🔗 Recursos\n",
    "\n",
    "- [Power BI Service (si se publica)](https://app.powerbi.com)\n",
    "- PDF del dashboard: [`dashboard.pdf`](dashboard.pdf)\n",
    "- Dataset original: [`FoliosMensual.csv`](data/FoliosMensual.csv)\n",
    "\n",
    "---\n",
    "\n",
    "Gracias por visitar este proyecto. Si deseas contactarme o ver más de mi trabajo, visita mi perfil de GitHub o LinkedIn."
   ]
  }
 ],
 "metadata": {
  "language_info": {
   "name": "python"
  }
 },
 "nbformat": 4,
 "nbformat_minor": 5
}
